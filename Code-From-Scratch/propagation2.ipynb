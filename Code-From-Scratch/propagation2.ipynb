{
 "cells": [
  {
   "cell_type": "code",
   "execution_count": 1,
   "metadata": {},
   "outputs": [],
   "source": [
    "import numpy as np"
   ]
  },
  {
   "cell_type": "code",
   "execution_count": 2,
   "metadata": {},
   "outputs": [],
   "source": [
    "import matplotlib.pyplot as plt\n",
    "%matplotlib inline"
   ]
  },
  {
   "cell_type": "code",
   "execution_count": null,
   "metadata": {},
   "outputs": [],
   "source": [
    "class Neural_Network(object):\n",
    "    \n",
    "    def __init__(self, inputSize, outputSize, hiddenLayers, hiddenUnits) -> None:\n",
    "        self.inputSize = inputSize\n",
    "        self.outputSize = outputSize\n",
    "        self.hiddenLayers = hiddenLayers\n",
    "        self.hiddenUnits = hiddenUnits\n",
    "        self.weights = []\n",
    "        \n",
    "        for i in range(self.hiddenLayers):\n",
    "            if i == 0:\n",
    "                self.weights.append(np.random.randn(self.inputSize, self.hiddenUnits))\n",
    "            else:\n",
    "                self.weights.append(np.random.randn(self.hiddenUnits, self.hiddenUnits))\n",
    "        self.weights.append(np.random.randn(self.hiddenUnits, self.outputSize))\n",
    "        \n",
    "        \n",
    "    def forward():\n",
    "        pass\n",
    "        \n",
    "    def backward():\n",
    "        pass\n",
    "        \n",
    "    def sigmoid(self, s):\n",
    "        # activtion function\n",
    "        return 1 / (1 + np.exp(-s))\n",
    "    \n",
    "    def sigmoidPrime(self, s):\n",
    "        # derivative of sigmoid function\n",
    "        return s * (1-s)\n",
    "    \n",
    "    def train(self, X, y):\n",
    "        o = self.forward(X)\n",
    "        self.backward(X, y, o)\n",
    "        \n",
    "        \n",
    "        \n"
   ]
  },
  {
   "cell_type": "code",
   "execution_count": 3,
   "metadata": {},
   "outputs": [
    {
     "name": "stdout",
     "output_type": "stream",
     "text": [
      "[[0.55555556 0.59340659 0.24      ]\n",
      " [0.88888889 0.74725275 0.06      ]\n",
      " [1.         1.         1.        ]]\n",
      "[[0.29268293]\n",
      " [0.3902439 ]\n",
      " [1.        ]]\n"
     ]
    }
   ],
   "source": [
    "# X: (Feature 1, Feature 2, Feature 3)\n",
    "X = np.array([[5, 54, 24], [8, 68, 6], [9, 91, 100]], dtype=float)\n",
    "# y: Target\n",
    "y = np.array([[12], [16], [41]], dtype=float)\n",
    "\n",
    "# Scaling units\n",
    "\n",
    "X = X/np.max(X, axis=0)\n",
    "y = y/ max(y)\n",
    "\n",
    "print(X)\n",
    "print(y)"
   ]
  },
  {
   "cell_type": "code",
   "execution_count": null,
   "metadata": {},
   "outputs": [],
   "source": [
    "NN = Neural_Network(3, 1, 2, 3)\n",
    "loss = []\n",
    "epochs = 400\n",
    "for i in range(epochs):\n",
    "    loss.append(np.mean(np.square(y - NN.forward(X))))\n",
    "    NN.train(X, y)"
   ]
  },
  {
   "cell_type": "code",
   "execution_count": null,
   "metadata": {},
   "outputs": [],
   "source": []
  }
 ],
 "metadata": {
  "kernelspec": {
   "display_name": "base",
   "language": "python",
   "name": "python3"
  },
  "language_info": {
   "codemirror_mode": {
    "name": "ipython",
    "version": 3
   },
   "file_extension": ".py",
   "mimetype": "text/x-python",
   "name": "python",
   "nbconvert_exporter": "python",
   "pygments_lexer": "ipython3",
   "version": "3.11.7"
  }
 },
 "nbformat": 4,
 "nbformat_minor": 2
}
